{
 "cells": [
  {
   "cell_type": "markdown",
   "metadata": {},
   "source": [
    "# Simple neural network from scratch\n",
    "\n",
    "This uses only numpy. Kudos to Niko Steinhoff (nsteinhoff on github) for developing the base for this on his phone and @iamtrask for the original code."
   ]
  },
  {
   "cell_type": "code",
   "execution_count": 17,
   "metadata": {
    "collapsed": true
   },
   "outputs": [],
   "source": [
    "'''\n",
    "This module implements a simple neural network with\n",
    "variable number of hidden layers.\n",
    "\n",
    "Todo:\n",
    "    - create larger dataset\n",
    "    - split train and test set\n",
    "    - check test error per iteration\n",
    "    - propper gradient descent\n",
    "    - regularization\n",
    "    - mini-batch\n",
    "'''\n",
    "import numpy as np\n",
    "import matplotlib.pyplot as plt\n",
    "%matplotlib inline"
   ]
  },
  {
   "cell_type": "markdown",
   "metadata": {},
   "source": [
    "### Helper functions\n",
    "\n",
    "- We need a functions that calculates the sigmoid a a given number of array (This means projecting a natural number on the space [0,1] using an exponential function).\n",
    "- We need the derivative of our function. As the function we use is the logistic function, it's derivative is x\\*(1-x) if x is the result of the logistic function.\n",
    "- The transform function is needed to turn the dot product of the x and the weights into a sigmoid."
   ]
  },
  {
   "cell_type": "code",
   "execution_count": 21,
   "metadata": {
    "collapsed": true
   },
   "outputs": [],
   "source": [
    "def sigmoid(x):\n",
    "    return 1/(1 + np.exp(-x))\n",
    "\n",
    "def derivative(x):\n",
    "    return x * (1-x)\n",
    "\n",
    "def transform(x, w):\n",
    "    return sigmoid(np.dot(x, w))"
   ]
  },
  {
   "cell_type": "code",
   "execution_count": null,
   "metadata": {
    "collapsed": true
   },
   "outputs": [],
   "source": [
    "def initialize_weights(n_inputs, n_outputs, seed=123):\n",
    "    np.random.seed(seed)\n",
    "    return 2 * np.random.random((n_inputs, n_outputs)) - 1\n",
    "    \n",
    "def initialize_model(layers, seed=123):\n",
    "    in_out = [(i, o) for i, o in zip(layers, layers[1:] + [1])]\n",
    "    l = [initialize_weights(n_in, n_out, seed+i)\n",
    "         for i, (n_in, n_out) in enumerate(in_out)]   \n",
    "    return l"
   ]
  },
  {
   "cell_type": "code",
   "execution_count": 2,
   "metadata": {
    "collapsed": true
   },
   "outputs": [],
   "source": [
    " def apply_model(model, x):\n",
    "    out = [x]\n",
    "    for i, w in enumerate(model):\n",
    "        out.append(transform(out[i], w))\n",
    "    return out\n",
    "\n",
    "def update_model(model, outputs, y):\n",
    "    error = y - outputs[-1]\n",
    "    slope = derivative(outputs[-1])\n",
    "    update = error * slope \n",
    "    new_weight = model[-1] + np.dot(outputs[-2].T, update)\n",
    "    \n",
    "    updates = [update]\n",
    "    new_weights = [new_weight]\n",
    "    \n",
    "    for i in range(len(model)-1):\n",
    "        upstream = -(i+1)\n",
    "        this = upstream - 1\n",
    "        downstream = this - 1\n",
    "        \n",
    "        back_prop = np.dot(updates[i], model[upstream].T)\n",
    "        update = back_prop * derivative(outputs[this])\n",
    "        new_weight = model[this] + np.dot(outputs[downstream].T, update)\n",
    "        \n",
    "        updates.append(update)\n",
    "        new_weights.append(new_weight)\n",
    "        \n",
    "    return list(reversed(new_weights))"
   ]
  },
  {
   "cell_type": "code",
   "execution_count": 14,
   "metadata": {
    "collapsed": true
   },
   "outputs": [],
   "source": [
    "def train(X, y, hidden_layers=None, n_iter=1000):\n",
    "    print(\"Training neural network... \")\n",
    "    n_input = X.shape[1]\n",
    "    if hidden_layers is None:\n",
    "        hidden_layers = []\n",
    "    layers = [n_input] + hidden_layers\n",
    "    model = initialize_model(layers)\n",
    "    \n",
    "    print(\"Initial model:\")\n",
    "    for i, m in enumerate(model):\n",
    "        print(\"Layer {}:\".format(i+1))\n",
    "        print(m)\n",
    "        \n",
    "    errors = []\n",
    "    scores = []\n",
    "    for _ in range(n_iter):\n",
    "        out = apply_model(model, X)\n",
    "        model = update_model(model, out, y)\n",
    "        \n",
    "        y_proba = out[-1]\n",
    "        y_pred = (y_proba >= 0.5).astype('int')\n",
    "        error = np.mean(np.abs(y - y_proba))\n",
    "        accuracy = np.mean(y_pred == y)\n",
    "        errors.append(error)\n",
    "        scores.append(accuracy)\n",
    "\n",
    "    stats = zip(scores, errors)\n",
    "    interval = len(scores)/10\n",
    "    print('')\n",
    "    print(\"{:<6}: {:>4} {:>8}\".format('iter', 'acc', 'err'))\n",
    "    for i, s in enumerate(stats[::interval]):\n",
    "        print(\"{:<6}: {:>4.2f} {:>8.4f}\".format(i*interval, *s))\n",
    "    plt.plot(errors)\n",
    "    plt.show()\n",
    "    \n",
    "    print('')\n",
    "    print(\"After training {} iterations:\\nTrue vs. Pred\".format(n_iter))\n",
    "    print(np.column_stack((y, y_proba)))\n",
    "    print('')\n",
    "    print(\"Accuracy: {:>10.2f}\".format(accuracy))\n",
    "    print(\"Error:    {:>10.4f}\".format(error))\n",
    "    print('')\n",
    "    print(\"Final model:\")\n",
    "    for i, m in enumerate(model):\n",
    "        print(\"Layer {}:\".format(i+1))\n",
    "        print(m)\n",
    "\n",
    "    return model"
   ]
  },
  {
   "cell_type": "code",
   "execution_count": 15,
   "metadata": {
    "collapsed": true
   },
   "outputs": [],
   "source": [
    "def test(model, X, y):\n",
    "    print('')\n",
    "    print(\"Testing neural network... \")\n",
    "    out = apply_model(model, X)\n",
    "    y_proba = out[-1]\n",
    "    y_pred = (y_proba >= 0.5).astype('int')\n",
    "    error = np.mean(np.abs(y - y_proba))\n",
    "    accuracy = np.mean(y_pred == y)\n",
    "    print(\"Accuracy: {:>10.2f}\".format(accuracy))\n",
    "    print(\"Error:    {:>10.4f}\".format(error))\n"
   ]
  },
  {
   "cell_type": "code",
   "execution_count": 20,
   "metadata": {
    "collapsed": false
   },
   "outputs": [
    {
     "name": "stdout",
     "output_type": "stream",
     "text": [
      "\n",
      "\n",
      "+=====+ START +======+\n",
      "Training neural network... \n",
      "Initial model:\n",
      "Layer 1:\n",
      "[[ 0.39293837 -0.42772133 -0.54629709  0.10262954]\n",
      " [ 0.43893794 -0.15378708  0.9615284   0.36965948]\n",
      " [-0.0381362  -0.21576496 -0.31364397  0.45809941]]\n",
      "Layer 2:\n",
      "[[-0.78787019  0.49094297  0.14462707]\n",
      " [-0.08351763 -0.23058819 -0.45202139]\n",
      " [ 0.33592482 -0.20904998 -0.43685421]\n",
      " [ 0.55983941  0.19818833 -0.75410728]]\n",
      "Layer 3:\n",
      "[[ 0.01345202]\n",
      " [-0.88493861]\n",
      " [ 0.25515997]]\n",
      "\n",
      "iter  :  acc      err\n",
      "0     : 0.40   0.5205\n",
      "1000  : 1.00   0.0191\n",
      "2000  : 1.00   0.0120\n",
      "3000  : 1.00   0.0094\n",
      "4000  : 1.00   0.0079\n",
      "5000  : 1.00   0.0070\n",
      "6000  : 1.00   0.0063\n",
      "7000  : 1.00   0.0058\n",
      "8000  : 1.00   0.0053\n",
      "9000  : 1.00   0.0050\n"
     ]
    },
    {
     "data": {
      "image/png": "[encoded data removed]",
      "text/plain": [
       "<matplotlib.figure.Figure at 0x10f00c990>"
      ]
     },
     "metadata": {},
     "output_type": "display_data"
    },
    {
     "name": "stdout",
     "output_type": "stream",
     "text": [
      "\n",
      "After training 10000 iterations:\n",
      "True vs. Pred\n",
      "[[ 0.          0.00661533]\n",
      " [ 0.          0.0053977 ]\n",
      " [ 1.          0.99857332]\n",
      " [ 1.          0.99760633]\n",
      " [ 1.          0.99223217]]\n",
      "\n",
      "Accuracy:       1.00\n",
      "Error:        0.0047\n",
      "\n",
      "Final model:\n",
      "Layer 1:\n",
      "[[ 3.36734717 -2.00270805 -2.58223472 -2.2405925 ]\n",
      " [ 0.04888636  0.30219746  0.94114509  0.43121706]\n",
      " [-2.88819152  1.50998857  1.67939996  1.93694481]]\n",
      "Layer 2:\n",
      "[[-3.79165409 -0.48580832  6.94053974]\n",
      " [ 0.28182997  0.36885226 -0.87063071]\n",
      " [ 0.83707396  0.53063077 -1.37202519]\n",
      " [ 1.20463477  0.8630214  -1.14148084]]\n",
      "Layer 3:\n",
      "[[-5.05870013]\n",
      " [-1.65578295]\n",
      " [ 8.85367446]]\n"
     ]
    }
   ],
   "source": [
    "print(\"\\n\\n+{:=^20}+\".format('+ START +'))\n",
    "X = np.array([[0, 0, 1],\n",
    "                  [0, 1, 1],\n",
    "                  [1, 0, 1],\n",
    "                  [1, 1, 1],\n",
    "                  [0, 0, 0]])\n",
    "y = np.array([0, 0, 1, 1, 1]).reshape((-1 , 1))\n",
    "\n",
    "model = train(X, y, hidden_layers=[4, 3], n_iter=10000)"
   ]
  },
  {
   "cell_type": "code",
   "execution_count": null,
   "metadata": {
    "collapsed": true
   },
   "outputs": [],
   "source": []
  }
 ],
 "metadata": {
  "kernelspec": {
   "display_name": "Python 2",
   "language": "python",
   "name": "python2"
  },
  "language_info": {
   "codemirror_mode": {
    "name": "ipython",
    "version": 2
   },
   "file_extension": ".py",
   "mimetype": "text/x-python",
   "name": "python",
   "nbconvert_exporter": "python",
   "pygments_lexer": "ipython2",
   "version": "2.7.11"
  }
 },
 "nbformat": 4,
 "nbformat_minor": 0
}
